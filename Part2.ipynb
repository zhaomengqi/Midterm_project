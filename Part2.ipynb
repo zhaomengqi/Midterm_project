{
 "cells": [
  {
   "cell_type": "markdown",
   "metadata": {},
   "source": [
    "#import h2o and run"
   ]
  },
  {
   "cell_type": "code",
   "execution_count": 2,
   "metadata": {},
   "outputs": [
    {
     "name": "stdout",
     "output_type": "stream",
     "text": [
      "Checking whether there is an H2O instance running at http://localhost:54321..... not found.\n",
      "Attempting to start a local H2O server...\n",
      "  Java Version: java version \"1.8.0_121\"; Java(TM) SE Runtime Environment (build 1.8.0_121-b13); Java HotSpot(TM) 64-Bit Server VM (build 25.121-b13, mixed mode)\n",
      "  Starting server from /Library/Frameworks/Python.framework/Versions/3.6/lib/python3.6/site-packages/h2o/backend/bin/h2o.jar\n",
      "  Ice root: /var/folders/s0/d7szw5jj2890t7dmcj8gl9w40000gn/T/tmpc2lxms1m\n",
      "  JVM stdout: /var/folders/s0/d7szw5jj2890t7dmcj8gl9w40000gn/T/tmpc2lxms1m/h2o_zhaomengqi_started_from_python.out\n",
      "  JVM stderr: /var/folders/s0/d7szw5jj2890t7dmcj8gl9w40000gn/T/tmpc2lxms1m/h2o_zhaomengqi_started_from_python.err\n",
      "  Server is running at http://127.0.0.1:54321\n",
      "Connecting to H2O server at http://127.0.0.1:54321... successful.\n"
     ]
    },
    {
     "data": {
      "text/html": [
       "<div style=\"overflow:auto\"><table style=\"width:50%\"><tr><td>H2O cluster uptime:</td>\n",
       "<td>03 secs</td></tr>\n",
       "<tr><td>H2O cluster version:</td>\n",
       "<td>3.14.0.7</td></tr>\n",
       "<tr><td>H2O cluster version age:</td>\n",
       "<td>14 days, 18 hours and 38 minutes </td></tr>\n",
       "<tr><td>H2O cluster name:</td>\n",
       "<td>H2O_from_python_zhaomengqi_6xausm</td></tr>\n",
       "<tr><td>H2O cluster total nodes:</td>\n",
       "<td>1</td></tr>\n",
       "<tr><td>H2O cluster free memory:</td>\n",
       "<td>1.778 Gb</td></tr>\n",
       "<tr><td>H2O cluster total cores:</td>\n",
       "<td>4</td></tr>\n",
       "<tr><td>H2O cluster allowed cores:</td>\n",
       "<td>4</td></tr>\n",
       "<tr><td>H2O cluster status:</td>\n",
       "<td>accepting new members, healthy</td></tr>\n",
       "<tr><td>H2O connection url:</td>\n",
       "<td>http://127.0.0.1:54321</td></tr>\n",
       "<tr><td>H2O connection proxy:</td>\n",
       "<td>None</td></tr>\n",
       "<tr><td>H2O internal security:</td>\n",
       "<td>False</td></tr>\n",
       "<tr><td>H2O API Extensions:</td>\n",
       "<td>XGBoost, Algos, AutoML, Core V3, Core V4</td></tr>\n",
       "<tr><td>Python version:</td>\n",
       "<td>3.6.2 final</td></tr></table></div>"
      ],
      "text/plain": [
       "--------------------------  ----------------------------------------\n",
       "H2O cluster uptime:         03 secs\n",
       "H2O cluster version:        3.14.0.7\n",
       "H2O cluster version age:    14 days, 18 hours and 38 minutes\n",
       "H2O cluster name:           H2O_from_python_zhaomengqi_6xausm\n",
       "H2O cluster total nodes:    1\n",
       "H2O cluster free memory:    1.778 Gb\n",
       "H2O cluster total cores:    4\n",
       "H2O cluster allowed cores:  4\n",
       "H2O cluster status:         accepting new members, healthy\n",
       "H2O connection url:         http://127.0.0.1:54321\n",
       "H2O connection proxy:\n",
       "H2O internal security:      False\n",
       "H2O API Extensions:         XGBoost, Algos, AutoML, Core V3, Core V4\n",
       "Python version:             3.6.2 final\n",
       "--------------------------  ----------------------------------------"
      ]
     },
     "metadata": {},
     "output_type": "display_data"
    }
   ],
   "source": [
    "import h2o\n",
    "h2o.init()"
   ]
  },
  {
   "cell_type": "markdown",
   "metadata": {},
   "source": [
    "#Convert Pandas data frame into H2o frame"
   ]
  },
  {
   "cell_type": "code",
   "execution_count": 3,
   "metadata": {},
   "outputs": [
    {
     "name": "stdout",
     "output_type": "stream",
     "text": [
      "Parse progress: |█████████████████████████████████████████████████████████| 100%\n"
     ]
    },
    {
     "data": {
      "text/html": [
       "<table>\n",
       "<thead>\n",
       "<tr><th style=\"text-align: right;\">  logerror</th><th style=\"text-align: right;\">  bathroomcnt</th><th style=\"text-align: right;\">  bedroomcnt</th><th style=\"text-align: right;\">  calculatedbathnbr</th><th style=\"text-align: right;\">  calculatedfinishedsquarefeet</th><th style=\"text-align: right;\">  finishedsquarefeet12</th><th style=\"text-align: right;\">  fullbathcnt</th><th style=\"text-align: right;\">  heatingorsystemtypeid</th><th style=\"text-align: right;\">  structuretaxvaluedollarcnt</th></tr>\n",
       "</thead>\n",
       "<tbody>\n",
       "<tr><td style=\"text-align: right;\">    0.0276</td><td style=\"text-align: right;\">          2  </td><td style=\"text-align: right;\">           3</td><td style=\"text-align: right;\">                2  </td><td style=\"text-align: right;\">                          1684</td><td style=\"text-align: right;\">                  1684</td><td style=\"text-align: right;\">            2</td><td style=\"text-align: right;\">                2      </td><td style=\"text-align: right;\">                      122754</td></tr>\n",
       "<tr><td style=\"text-align: right;\">   -0.1684</td><td style=\"text-align: right;\">          3.5</td><td style=\"text-align: right;\">           4</td><td style=\"text-align: right;\">                3.5</td><td style=\"text-align: right;\">                          2263</td><td style=\"text-align: right;\">                  2263</td><td style=\"text-align: right;\">            3</td><td style=\"text-align: right;\">                3.92698</td><td style=\"text-align: right;\">                      346458</td></tr>\n",
       "<tr><td style=\"text-align: right;\">   -0.004 </td><td style=\"text-align: right;\">          3  </td><td style=\"text-align: right;\">           2</td><td style=\"text-align: right;\">                3  </td><td style=\"text-align: right;\">                          2217</td><td style=\"text-align: right;\">                  2217</td><td style=\"text-align: right;\">            3</td><td style=\"text-align: right;\">                2      </td><td style=\"text-align: right;\">                       61994</td></tr>\n",
       "<tr><td style=\"text-align: right;\">    0.0218</td><td style=\"text-align: right;\">          2  </td><td style=\"text-align: right;\">           2</td><td style=\"text-align: right;\">                2  </td><td style=\"text-align: right;\">                           839</td><td style=\"text-align: right;\">                   839</td><td style=\"text-align: right;\">            2</td><td style=\"text-align: right;\">                2      </td><td style=\"text-align: right;\">                      171518</td></tr>\n",
       "<tr><td style=\"text-align: right;\">   -0.005 </td><td style=\"text-align: right;\">          2.5</td><td style=\"text-align: right;\">           4</td><td style=\"text-align: right;\">                2.5</td><td style=\"text-align: right;\">                          2283</td><td style=\"text-align: right;\">                  2283</td><td style=\"text-align: right;\">            2</td><td style=\"text-align: right;\">                3.92698</td><td style=\"text-align: right;\">                      169574</td></tr>\n",
       "</tbody>\n",
       "</table>"
      ]
     },
     "metadata": {},
     "output_type": "display_data"
    },
    {
     "data": {
      "text/plain": []
     },
     "execution_count": 3,
     "metadata": {},
     "output_type": "execute_result"
    }
   ],
   "source": [
    "import pandas as pd\n",
    "\n",
    "df = pd.read_csv('midterm_2016.csv')\n",
    "\n",
    "df.drop(['parcelid','airconditioningtypeid'],axis=1,inplace=True)\n",
    "df.drop(['buildingqualitytypeid','finishedfloor1squarefeet','finishedsquarefeet15','finishedsquarefeet50','fips','fireplacecnt','garagecarcnt','garagetotalsqft', 'latitude','longitude','lotsizesquarefeet','poolcnt','poolsizesum','pooltypeid10','pooltypeid2','pooltypeid7','propertylandusetypeid','rawcensustractandblock','regionidcity','regionidcounty','regionidneighborhood','regionidzip','roomcnt','threequarterbathnbr','unitcnt','yardbuildingsqft17','yearbuilt','numberofstories','taxvaluedollarcnt','assessmentyear','landtaxvaluedollarcnt','taxamount','taxdelinquencyyear','censustractandblock'],axis=1,inplace=True)\n",
    "\n",
    "wine=h2o.H2OFrame(df)\n",
    "\n",
    "wine.head(5)\n",
    "\n",
    "\n",
    "\n"
   ]
  },
  {
   "cell_type": "code",
   "execution_count": 4,
   "metadata": {},
   "outputs": [
    {
     "data": {
      "text/plain": [
       "['bathroomcnt',\n",
       " 'bedroomcnt',\n",
       " 'calculatedbathnbr',\n",
       " 'calculatedfinishedsquarefeet',\n",
       " 'finishedsquarefeet12',\n",
       " 'fullbathcnt',\n",
       " 'heatingorsystemtypeid',\n",
       " 'structuretaxvaluedollarcnt']"
      ]
     },
     "execution_count": 4,
     "metadata": {},
     "output_type": "execute_result"
    }
   ],
   "source": [
    "feature = list(wine.columns)\n",
    "feature.remove('logerror')\n",
    "feature"
   ]
  },
  {
   "cell_type": "code",
   "execution_count": 5,
   "metadata": {},
   "outputs": [],
   "source": [
    "wine_split=wine.split_frame(ratios=[0.75])\n",
    "wine_train=wine_split[0]\n",
    "wine_test=wine_split[1]"
   ]
  },
  {
   "cell_type": "code",
   "execution_count": 6,
   "metadata": {},
   "outputs": [
    {
     "data": {
      "text/plain": [
       "(67825, 9)"
      ]
     },
     "execution_count": 6,
     "metadata": {},
     "output_type": "execute_result"
    }
   ],
   "source": [
    "wine_train.shape"
   ]
  },
  {
   "cell_type": "code",
   "execution_count": 7,
   "metadata": {},
   "outputs": [],
   "source": [
    "from h2o.estimators.glm import H2OGeneralizedLinearEstimator\n",
    "glm_default=H2OGeneralizedLinearEstimator(family='gaussian',model_id='glm_default')"
   ]
  },
  {
   "cell_type": "code",
   "execution_count": 8,
   "metadata": {},
   "outputs": [
    {
     "name": "stdout",
     "output_type": "stream",
     "text": [
      "glm Model Build progress: |███████████████████████████████████████████████| 100%\n"
     ]
    }
   ],
   "source": [
    "glm_default.train(x=feature,y='logerror',training_frame=wine_train)"
   ]
  },
  {
   "cell_type": "code",
   "execution_count": 9,
   "metadata": {},
   "outputs": [
    {
     "name": "stdout",
     "output_type": "stream",
     "text": [
      "Model Details\n",
      "=============\n",
      "H2OGeneralizedLinearEstimator :  Generalized Linear Modeling\n",
      "Model Key:  glm_default\n",
      "\n",
      "\n",
      "ModelMetricsRegressionGLM: glm\n",
      "** Reported on train data. **\n",
      "\n",
      "MSE: 0.026261115373876945\n",
      "RMSE: 0.16205281661815368\n",
      "MAE: 0.06837790575463598\n",
      "RMSLE: NaN\n",
      "R^2: 0.0016267425290013016\n",
      "Mean Residual Deviance: 0.026261115373876945\n",
      "Null degrees of freedom: 67824\n",
      "Residual degrees of freedom: 67816\n",
      "Null deviance: 1784.0623603490517\n",
      "Residual deviance: 1781.1601502332037\n",
      "AIC: -54361.33013131289\n",
      "Scoring History: \n"
     ]
    },
    {
     "data": {
      "text/html": [
       "<div style=\"overflow:auto\"><table style=\"width:50%\"><tr><td><b></b></td>\n",
       "<td><b>timestamp</b></td>\n",
       "<td><b>duration</b></td>\n",
       "<td><b>iterations</b></td>\n",
       "<td><b>negative_log_likelihood</b></td>\n",
       "<td><b>objective</b></td></tr>\n",
       "<tr><td></td>\n",
       "<td>2017-11-04 13:16:20</td>\n",
       "<td> 0.000 sec</td>\n",
       "<td>0</td>\n",
       "<td>1784.0623587</td>\n",
       "<td>0.0263039</td></tr></table></div>"
      ],
      "text/plain": [
       "    timestamp            duration    iterations    negative_log_likelihood    objective\n",
       "--  -------------------  ----------  ------------  -------------------------  -----------\n",
       "    2017-11-04 13:16:20  0.000 sec   0             1784.06                    0.0263039"
      ]
     },
     "metadata": {},
     "output_type": "display_data"
    },
    {
     "data": {
      "text/plain": []
     },
     "execution_count": 9,
     "metadata": {},
     "output_type": "execute_result"
    }
   ],
   "source": [
    "\n",
    "glm_default"
   ]
  },
  {
   "cell_type": "code",
   "execution_count": 105,
   "metadata": {},
   "outputs": [
    {
     "name": "stdout",
     "output_type": "stream",
     "text": [
      "glm prediction progress: |████████████████████████████████████████████████| 100%\n"
     ]
    },
    {
     "data": {
      "text/html": [
       "<table>\n",
       "<thead>\n",
       "<tr><th style=\"text-align: right;\">   predict</th></tr>\n",
       "</thead>\n",
       "<tbody>\n",
       "<tr><td style=\"text-align: right;\">0.0134297 </td></tr>\n",
       "<tr><td style=\"text-align: right;\">0.0131736 </td></tr>\n",
       "<tr><td style=\"text-align: right;\">0.00502152</td></tr>\n",
       "<tr><td style=\"text-align: right;\">0.0167455 </td></tr>\n",
       "<tr><td style=\"text-align: right;\">0.015629  </td></tr>\n",
       "<tr><td style=\"text-align: right;\">0.00772776</td></tr>\n",
       "<tr><td style=\"text-align: right;\">0.00880944</td></tr>\n",
       "<tr><td style=\"text-align: right;\">0.00505806</td></tr>\n",
       "<tr><td style=\"text-align: right;\">0.00958128</td></tr>\n",
       "<tr><td style=\"text-align: right;\">0.0256804 </td></tr>\n",
       "</tbody>\n",
       "</table>"
      ]
     },
     "metadata": {},
     "output_type": "display_data"
    },
    {
     "data": {
      "text/plain": []
     },
     "execution_count": 105,
     "metadata": {},
     "output_type": "execute_result"
    }
   ],
   "source": [
    "yhat_test_glm =glm_default.predict(wine_test)\n",
    "yhat_test_glm"
   ]
  },
  {
   "cell_type": "code",
   "execution_count": 10,
   "metadata": {},
   "outputs": [
    {
     "name": "stdout",
     "output_type": "stream",
     "text": [
      "drf Model Build progress: |███████████████████████████████████████████████| 100%\n",
      "Model Details\n",
      "=============\n",
      "H2ORandomForestEstimator :  Distributed Random Forest\n",
      "Model Key:  drf_default\n",
      "\n",
      "\n",
      "ModelMetricsRegression: drf\n",
      "** Reported on train data. **\n",
      "\n",
      "MSE: 0.027277447300287215\n",
      "RMSE: 0.16515885474381087\n",
      "MAE: 0.07174529551321478\n",
      "RMSLE: NaN\n",
      "Mean Residual Deviance: 0.027277447300287215\n",
      "Scoring History: \n"
     ]
    },
    {
     "data": {
      "text/html": [
       "<div style=\"overflow:auto\"><table style=\"width:50%\"><tr><td><b></b></td>\n",
       "<td><b>timestamp</b></td>\n",
       "<td><b>duration</b></td>\n",
       "<td><b>number_of_trees</b></td>\n",
       "<td><b>training_rmse</b></td>\n",
       "<td><b>training_mae</b></td>\n",
       "<td><b>training_deviance</b></td></tr>\n",
       "<tr><td></td>\n",
       "<td>2017-11-04 13:16:29</td>\n",
       "<td> 0.168 sec</td>\n",
       "<td>0.0</td>\n",
       "<td>nan</td>\n",
       "<td>nan</td>\n",
       "<td>nan</td></tr>\n",
       "<tr><td></td>\n",
       "<td>2017-11-04 13:16:29</td>\n",
       "<td> 0.769 sec</td>\n",
       "<td>1.0</td>\n",
       "<td>0.1744463</td>\n",
       "<td>0.0780717</td>\n",
       "<td>0.0304315</td></tr>\n",
       "<tr><td></td>\n",
       "<td>2017-11-04 13:16:29</td>\n",
       "<td> 1.023 sec</td>\n",
       "<td>2.0</td>\n",
       "<td>0.1798410</td>\n",
       "<td>0.0785559</td>\n",
       "<td>0.0323428</td></tr>\n",
       "<tr><td></td>\n",
       "<td>2017-11-04 13:16:30</td>\n",
       "<td> 1.268 sec</td>\n",
       "<td>3.0</td>\n",
       "<td>0.1787278</td>\n",
       "<td>0.0777237</td>\n",
       "<td>0.0319436</td></tr>\n",
       "<tr><td></td>\n",
       "<td>2017-11-04 13:16:30</td>\n",
       "<td> 1.501 sec</td>\n",
       "<td>4.0</td>\n",
       "<td>0.1776213</td>\n",
       "<td>0.0771563</td>\n",
       "<td>0.0315493</td></tr>\n",
       "<tr><td>---</td>\n",
       "<td>---</td>\n",
       "<td>---</td>\n",
       "<td>---</td>\n",
       "<td>---</td>\n",
       "<td>---</td>\n",
       "<td>---</td></tr>\n",
       "<tr><td></td>\n",
       "<td>2017-11-04 13:16:32</td>\n",
       "<td> 3.739 sec</td>\n",
       "<td>20.0</td>\n",
       "<td>0.1673755</td>\n",
       "<td>0.0730828</td>\n",
       "<td>0.0280146</td></tr>\n",
       "<tr><td></td>\n",
       "<td>2017-11-04 13:16:32</td>\n",
       "<td> 3.826 sec</td>\n",
       "<td>21.0</td>\n",
       "<td>0.1669961</td>\n",
       "<td>0.0729777</td>\n",
       "<td>0.0278877</td></tr>\n",
       "<tr><td></td>\n",
       "<td>2017-11-04 13:16:32</td>\n",
       "<td> 4.038 sec</td>\n",
       "<td>22.0</td>\n",
       "<td>0.1669996</td>\n",
       "<td>0.0729852</td>\n",
       "<td>0.0278889</td></tr>\n",
       "<tr><td></td>\n",
       "<td>2017-11-04 13:16:33</td>\n",
       "<td> 4.173 sec</td>\n",
       "<td>23.0</td>\n",
       "<td>0.1669483</td>\n",
       "<td>0.0729090</td>\n",
       "<td>0.0278717</td></tr>\n",
       "<tr><td></td>\n",
       "<td>2017-11-04 13:16:35</td>\n",
       "<td> 6.995 sec</td>\n",
       "<td>50.0</td>\n",
       "<td>0.1651589</td>\n",
       "<td>0.0717453</td>\n",
       "<td>0.0272774</td></tr></table></div>"
      ],
      "text/plain": [
       "     timestamp            duration    number_of_trees    training_rmse        training_mae         training_deviance\n",
       "---  -------------------  ----------  -----------------  -------------------  -------------------  --------------------\n",
       "     2017-11-04 13:16:29  0.168 sec   0.0                nan                  nan                  nan\n",
       "     2017-11-04 13:16:29  0.769 sec   1.0                0.17444627525206374  0.07807171185851126  0.030431502949318786\n",
       "     2017-11-04 13:16:29  1.023 sec   2.0                0.17984103199196172  0.07855592737690732  0.0323427967879338\n",
       "     2017-11-04 13:16:30  1.268 sec   3.0                0.17872783529761146  0.07772367036743422  0.031943639110170126\n",
       "     2017-11-04 13:16:30  1.501 sec   4.0                0.1776213491227614   0.07715625035861877  0.03154934366418989\n",
       "---  ---                  ---         ---                ---                  ---                  ---\n",
       "     2017-11-04 13:16:32  3.739 sec   20.0               0.1673755090980549   0.07308275205877669  0.028014561045833063\n",
       "     2017-11-04 13:16:32  3.826 sec   21.0               0.16699605499425874  0.07297768510980848  0.02788768238364549\n",
       "     2017-11-04 13:16:32  4.038 sec   22.0               0.16699960709692893  0.072985237378058    0.027888868770528638\n",
       "     2017-11-04 13:16:33  4.173 sec   23.0               0.16694828038037254  0.0729089603587958   0.027871728321963482\n",
       "     2017-11-04 13:16:35  6.995 sec   50.0               0.16515885474381087  0.07174529551321478  0.027277447300287215"
      ]
     },
     "metadata": {},
     "output_type": "display_data"
    },
    {
     "name": "stdout",
     "output_type": "stream",
     "text": [
      "\n",
      "See the whole table with table.as_data_frame()\n",
      "Variable Importances: \n"
     ]
    },
    {
     "data": {
      "text/html": [
       "<div style=\"overflow:auto\"><table style=\"width:50%\"><tr><td><b>variable</b></td>\n",
       "<td><b>relative_importance</b></td>\n",
       "<td><b>scaled_importance</b></td>\n",
       "<td><b>percentage</b></td></tr>\n",
       "<tr><td>structuretaxvaluedollarcnt</td>\n",
       "<td>5521.6499023</td>\n",
       "<td>1.0</td>\n",
       "<td>0.3324703</td></tr>\n",
       "<tr><td>calculatedfinishedsquarefeet</td>\n",
       "<td>4180.2177734</td>\n",
       "<td>0.7570595</td>\n",
       "<td>0.2516998</td></tr>\n",
       "<tr><td>finishedsquarefeet12</td>\n",
       "<td>3835.9299316</td>\n",
       "<td>0.6947072</td>\n",
       "<td>0.2309695</td></tr>\n",
       "<tr><td>bedroomcnt</td>\n",
       "<td>1136.2436523</td>\n",
       "<td>0.2057797</td>\n",
       "<td>0.0684157</td></tr>\n",
       "<tr><td>heatingorsystemtypeid</td>\n",
       "<td>580.9459839</td>\n",
       "<td>0.1052124</td>\n",
       "<td>0.0349800</td></tr>\n",
       "<tr><td>fullbathcnt</td>\n",
       "<td>472.7566223</td>\n",
       "<td>0.0856187</td>\n",
       "<td>0.0284657</td></tr>\n",
       "<tr><td>bathroomcnt</td>\n",
       "<td>457.4491882</td>\n",
       "<td>0.0828465</td>\n",
       "<td>0.0275440</td></tr>\n",
       "<tr><td>calculatedbathnbr</td>\n",
       "<td>422.7562256</td>\n",
       "<td>0.0765634</td>\n",
       "<td>0.0254551</td></tr></table></div>"
      ],
      "text/plain": [
       "variable                      relative_importance    scaled_importance    percentage\n",
       "----------------------------  ---------------------  -------------------  ------------\n",
       "structuretaxvaluedollarcnt    5521.65                1                    0.33247\n",
       "calculatedfinishedsquarefeet  4180.22                0.75706              0.2517\n",
       "finishedsquarefeet12          3835.93                0.694707             0.23097\n",
       "bedroomcnt                    1136.24                0.20578              0.0684157\n",
       "heatingorsystemtypeid         580.946                0.105212             0.03498\n",
       "fullbathcnt                   472.757                0.0856187            0.0284657\n",
       "bathroomcnt                   457.449                0.0828465            0.027544\n",
       "calculatedbathnbr             422.756                0.0765634            0.0254551"
      ]
     },
     "metadata": {},
     "output_type": "display_data"
    },
    {
     "data": {
      "text/plain": []
     },
     "execution_count": 10,
     "metadata": {},
     "output_type": "execute_result"
    }
   ],
   "source": [
    "from h2o.estimators.random_forest import H2ORandomForestEstimator\n",
    "drf_default=H2ORandomForestEstimator(seed=1234,model_id='drf_default')\n",
    "drf_default.train(x=feature,y='logerror',training_frame=wine_train)\n",
    "drf_default"
   ]
  },
  {
   "cell_type": "code",
   "execution_count": 11,
   "metadata": {},
   "outputs": [
    {
     "name": "stdout",
     "output_type": "stream",
     "text": [
      "drf prediction progress: |████████████████████████████████████████████████| 100%\n"
     ]
    },
    {
     "data": {
      "text/html": [
       "<table>\n",
       "<thead>\n",
       "<tr><th style=\"text-align: right;\">    predict</th></tr>\n",
       "</thead>\n",
       "<tbody>\n",
       "<tr><td style=\"text-align: right;\">0.0142056  </td></tr>\n",
       "<tr><td style=\"text-align: right;\">0.00969776 </td></tr>\n",
       "<tr><td style=\"text-align: right;\">0.0279526  </td></tr>\n",
       "<tr><td style=\"text-align: right;\">0.00725515 </td></tr>\n",
       "<tr><td style=\"text-align: right;\">0.0121618  </td></tr>\n",
       "<tr><td style=\"text-align: right;\">0.027      </td></tr>\n",
       "<tr><td style=\"text-align: right;\">0.0064791  </td></tr>\n",
       "<tr><td style=\"text-align: right;\">0.000176644</td></tr>\n",
       "<tr><td style=\"text-align: right;\">0.0105517  </td></tr>\n",
       "<tr><td style=\"text-align: right;\">0.00452557 </td></tr>\n",
       "</tbody>\n",
       "</table>"
      ]
     },
     "metadata": {},
     "output_type": "display_data"
    },
    {
     "data": {
      "text/plain": []
     },
     "execution_count": 11,
     "metadata": {},
     "output_type": "execute_result"
    }
   ],
   "source": [
    "drf_test_glm =drf_default.predict(wine_test)\n",
    "drf_test_glm"
   ]
  },
  {
   "cell_type": "code",
   "execution_count": 12,
   "metadata": {},
   "outputs": [
    {
     "data": {
      "text/plain": [
       "['logerror', 'finishedsquarefeet12', 'heatingorsystemtypeid']"
      ]
     },
     "execution_count": 12,
     "metadata": {},
     "output_type": "execute_result"
    }
   ],
   "source": [
    "feature = list(wine.columns)\n",
    "#feature.remove('logerror')\n",
    "feature.remove('calculatedfinishedsquarefeet')\n",
    "feature.remove('calculatedbathnbr')\n",
    "feature.remove('structuretaxvaluedollarcnt')\n",
    "feature.remove('bedroomcnt')\n",
    "feature.remove('bathroomcnt')\n",
    "feature.remove('fullbathcnt')\n",
    "\n",
    "feature"
   ]
  },
  {
   "cell_type": "code",
   "execution_count": 13,
   "metadata": {},
   "outputs": [],
   "source": [
    "wine_split=wine.split_frame(ratios=[0.75])\n",
    "wine_train=wine_split[0]\n",
    "wine_test=wine_split[1]"
   ]
  },
  {
   "cell_type": "code",
   "execution_count": 14,
   "metadata": {},
   "outputs": [
    {
     "data": {
      "text/plain": [
       "(67618, 9)"
      ]
     },
     "execution_count": 14,
     "metadata": {},
     "output_type": "execute_result"
    }
   ],
   "source": [
    "wine_train.shape"
   ]
  },
  {
   "cell_type": "code",
   "execution_count": 15,
   "metadata": {},
   "outputs": [],
   "source": [
    "from h2o.estimators.glm import H2OGeneralizedLinearEstimator\n",
    "glm_default=H2OGeneralizedLinearEstimator(family='gaussian',model_id='glm_default')"
   ]
  },
  {
   "cell_type": "code",
   "execution_count": 16,
   "metadata": {},
   "outputs": [
    {
     "name": "stdout",
     "output_type": "stream",
     "text": [
      "glm Model Build progress: |███████████████████████████████████████████████| 100%\n"
     ]
    }
   ],
   "source": [
    "glm_default.train(x=feature,y='logerror',training_frame=wine_train)"
   ]
  },
  {
   "cell_type": "code",
   "execution_count": 17,
   "metadata": {},
   "outputs": [
    {
     "name": "stdout",
     "output_type": "stream",
     "text": [
      "drf Model Build progress: |███████████████████████████████████████████████| 100%\n",
      "Model Details\n",
      "=============\n",
      "H2ORandomForestEstimator :  Distributed Random Forest\n",
      "Model Key:  drf_default\n",
      "\n",
      "\n",
      "ModelMetricsRegression: drf\n",
      "** Reported on train data. **\n",
      "\n",
      "MSE: 0.02624302485907395\n",
      "RMSE: 0.1619969902778257\n",
      "MAE: 0.06841834701650601\n",
      "RMSLE: NaN\n",
      "Mean Residual Deviance: 0.02624302485907395\n",
      "Scoring History: \n"
     ]
    },
    {
     "data": {
      "text/html": [
       "<div style=\"overflow:auto\"><table style=\"width:50%\"><tr><td><b></b></td>\n",
       "<td><b>timestamp</b></td>\n",
       "<td><b>duration</b></td>\n",
       "<td><b>number_of_trees</b></td>\n",
       "<td><b>training_rmse</b></td>\n",
       "<td><b>training_mae</b></td>\n",
       "<td><b>training_deviance</b></td></tr>\n",
       "<tr><td></td>\n",
       "<td>2017-11-04 13:18:24</td>\n",
       "<td> 0.074 sec</td>\n",
       "<td>0.0</td>\n",
       "<td>nan</td>\n",
       "<td>nan</td>\n",
       "<td>nan</td></tr>\n",
       "<tr><td></td>\n",
       "<td>2017-11-04 13:18:24</td>\n",
       "<td> 0.194 sec</td>\n",
       "<td>1.0</td>\n",
       "<td>0.1653392</td>\n",
       "<td>0.0690475</td>\n",
       "<td>0.0273370</td></tr>\n",
       "<tr><td></td>\n",
       "<td>2017-11-04 13:18:24</td>\n",
       "<td> 0.220 sec</td>\n",
       "<td>2.0</td>\n",
       "<td>0.1647754</td>\n",
       "<td>0.0686980</td>\n",
       "<td>0.0271509</td></tr>\n",
       "<tr><td></td>\n",
       "<td>2017-11-04 13:18:24</td>\n",
       "<td> 0.253 sec</td>\n",
       "<td>3.0</td>\n",
       "<td>0.1610458</td>\n",
       "<td>0.0682296</td>\n",
       "<td>0.0259357</td></tr>\n",
       "<tr><td></td>\n",
       "<td>2017-11-04 13:18:24</td>\n",
       "<td> 0.283 sec</td>\n",
       "<td>4.0</td>\n",
       "<td>0.1603963</td>\n",
       "<td>0.0684977</td>\n",
       "<td>0.0257270</td></tr>\n",
       "<tr><td>---</td>\n",
       "<td>---</td>\n",
       "<td>---</td>\n",
       "<td>---</td>\n",
       "<td>---</td>\n",
       "<td>---</td>\n",
       "<td>---</td></tr>\n",
       "<tr><td></td>\n",
       "<td>2017-11-04 13:18:27</td>\n",
       "<td> 2.508 sec</td>\n",
       "<td>46.0</td>\n",
       "<td>0.1619917</td>\n",
       "<td>0.0684279</td>\n",
       "<td>0.0262413</td></tr>\n",
       "<tr><td></td>\n",
       "<td>2017-11-04 13:18:27</td>\n",
       "<td> 2.537 sec</td>\n",
       "<td>47.0</td>\n",
       "<td>0.1619950</td>\n",
       "<td>0.0684243</td>\n",
       "<td>0.0262424</td></tr>\n",
       "<tr><td></td>\n",
       "<td>2017-11-04 13:18:27</td>\n",
       "<td> 2.565 sec</td>\n",
       "<td>48.0</td>\n",
       "<td>0.1619913</td>\n",
       "<td>0.0684187</td>\n",
       "<td>0.0262412</td></tr>\n",
       "<tr><td></td>\n",
       "<td>2017-11-04 13:18:27</td>\n",
       "<td> 2.654 sec</td>\n",
       "<td>49.0</td>\n",
       "<td>0.1620032</td>\n",
       "<td>0.0684251</td>\n",
       "<td>0.0262450</td></tr>\n",
       "<tr><td></td>\n",
       "<td>2017-11-04 13:18:27</td>\n",
       "<td> 2.705 sec</td>\n",
       "<td>50.0</td>\n",
       "<td>0.1619970</td>\n",
       "<td>0.0684183</td>\n",
       "<td>0.0262430</td></tr></table></div>"
      ],
      "text/plain": [
       "     timestamp            duration    number_of_trees    training_rmse        training_mae         training_deviance\n",
       "---  -------------------  ----------  -----------------  -------------------  -------------------  --------------------\n",
       "     2017-11-04 13:18:24  0.074 sec   0.0                nan                  nan                  nan\n",
       "     2017-11-04 13:18:24  0.194 sec   1.0                0.16533918027478223  0.06904751270726724  0.027337044533936938\n",
       "     2017-11-04 13:18:24  0.220 sec   2.0                0.16477539086837376  0.0686980229535075   0.027150929435825345\n",
       "     2017-11-04 13:18:24  0.253 sec   3.0                0.16104579454365883  0.0682295905106122   0.02593574794019837\n",
       "     2017-11-04 13:18:24  0.283 sec   4.0                0.16039630199942131  0.06849771904858894  0.025726973695089562\n",
       "---  ---                  ---         ---                ---                  ---                  ---\n",
       "     2017-11-04 13:18:27  2.508 sec   46.0               0.1619916891584363   0.06842788913006043  0.026241307356403447\n",
       "     2017-11-04 13:18:27  2.537 sec   47.0               0.16199495430817198  0.06842433004026117  0.026242365221306733\n",
       "     2017-11-04 13:18:27  2.565 sec   48.0               0.16199126325811936  0.06841873876281833  0.02624116937196133\n",
       "     2017-11-04 13:18:27  2.654 sec   49.0               0.16200319112680697  0.06842510002352106  0.026245033935268745\n",
       "     2017-11-04 13:18:27  2.705 sec   50.0               0.1619969902778257   0.06841834701650601  0.02624302485907395"
      ]
     },
     "metadata": {},
     "output_type": "display_data"
    },
    {
     "name": "stdout",
     "output_type": "stream",
     "text": [
      "\n",
      "See the whole table with table.as_data_frame()\n",
      "Variable Importances: \n"
     ]
    },
    {
     "data": {
      "text/html": [
       "<div style=\"overflow:auto\"><table style=\"width:50%\"><tr><td><b>variable</b></td>\n",
       "<td><b>relative_importance</b></td>\n",
       "<td><b>scaled_importance</b></td>\n",
       "<td><b>percentage</b></td></tr>\n",
       "<tr><td>finishedsquarefeet12</td>\n",
       "<td>1083.0378418</td>\n",
       "<td>1.0</td>\n",
       "<td>0.8939766</td></tr>\n",
       "<tr><td>heatingorsystemtypeid</td>\n",
       "<td>128.4455414</td>\n",
       "<td>0.1185975</td>\n",
       "<td>0.1060234</td></tr></table></div>"
      ],
      "text/plain": [
       "variable               relative_importance    scaled_importance    percentage\n",
       "---------------------  ---------------------  -------------------  ------------\n",
       "finishedsquarefeet12   1083.04                1                    0.893977\n",
       "heatingorsystemtypeid  128.446                0.118597             0.106023"
      ]
     },
     "metadata": {},
     "output_type": "display_data"
    },
    {
     "data": {
      "text/plain": []
     },
     "execution_count": 17,
     "metadata": {},
     "output_type": "execute_result"
    }
   ],
   "source": [
    "from h2o.estimators.random_forest import H2ORandomForestEstimator\n",
    "drf_default=H2ORandomForestEstimator(seed=1234,model_id='drf_default')\n",
    "drf_default.train(x=feature,y='logerror',training_frame=wine_train)\n",
    "drf_default"
   ]
  },
  {
   "cell_type": "code",
   "execution_count": 18,
   "metadata": {},
   "outputs": [
    {
     "name": "stdout",
     "output_type": "stream",
     "text": [
      "drf prediction progress: |████████████████████████████████████████████████| 100%\n"
     ]
    },
    {
     "data": {
      "text/html": [
       "<table>\n",
       "<thead>\n",
       "<tr><th style=\"text-align: right;\">   predict</th></tr>\n",
       "</thead>\n",
       "<tbody>\n",
       "<tr><td style=\"text-align: right;\">0.0128764 </td></tr>\n",
       "<tr><td style=\"text-align: right;\">0.00756895</td></tr>\n",
       "<tr><td style=\"text-align: right;\">0.00750768</td></tr>\n",
       "<tr><td style=\"text-align: right;\">0.012224  </td></tr>\n",
       "<tr><td style=\"text-align: right;\">0.0106338 </td></tr>\n",
       "<tr><td style=\"text-align: right;\">0.0108733 </td></tr>\n",
       "<tr><td style=\"text-align: right;\">0.0105962 </td></tr>\n",
       "<tr><td style=\"text-align: right;\">0.0112595 </td></tr>\n",
       "<tr><td style=\"text-align: right;\">0.0094614 </td></tr>\n",
       "<tr><td style=\"text-align: right;\">0.0127927 </td></tr>\n",
       "</tbody>\n",
       "</table>"
      ]
     },
     "metadata": {},
     "output_type": "display_data"
    },
    {
     "data": {
      "text/plain": []
     },
     "execution_count": 18,
     "metadata": {},
     "output_type": "execute_result"
    }
   ],
   "source": [
    "drf_test_glm =drf_default.predict(wine_test)\n",
    "drf_test_glm"
   ]
  },
  {
   "cell_type": "code",
   "execution_count": 19,
   "metadata": {},
   "outputs": [
    {
     "name": "stdout",
     "output_type": "stream",
     "text": [
      "Checking whether there is an H2O instance running at http://localhost:54321. connected.\n"
     ]
    },
    {
     "data": {
      "text/html": [
       "<div style=\"overflow:auto\"><table style=\"width:50%\"><tr><td>H2O cluster uptime:</td>\n",
       "<td>4 mins 26 secs</td></tr>\n",
       "<tr><td>H2O cluster version:</td>\n",
       "<td>3.14.0.7</td></tr>\n",
       "<tr><td>H2O cluster version age:</td>\n",
       "<td>14 days, 18 hours and 43 minutes </td></tr>\n",
       "<tr><td>H2O cluster name:</td>\n",
       "<td>H2O_from_python_zhaomengqi_6xausm</td></tr>\n",
       "<tr><td>H2O cluster total nodes:</td>\n",
       "<td>1</td></tr>\n",
       "<tr><td>H2O cluster free memory:</td>\n",
       "<td>1.637 Gb</td></tr>\n",
       "<tr><td>H2O cluster total cores:</td>\n",
       "<td>4</td></tr>\n",
       "<tr><td>H2O cluster allowed cores:</td>\n",
       "<td>4</td></tr>\n",
       "<tr><td>H2O cluster status:</td>\n",
       "<td>locked, healthy</td></tr>\n",
       "<tr><td>H2O connection url:</td>\n",
       "<td>http://localhost:54321</td></tr>\n",
       "<tr><td>H2O connection proxy:</td>\n",
       "<td>None</td></tr>\n",
       "<tr><td>H2O internal security:</td>\n",
       "<td>False</td></tr>\n",
       "<tr><td>H2O API Extensions:</td>\n",
       "<td>XGBoost, Algos, AutoML, Core V3, Core V4</td></tr>\n",
       "<tr><td>Python version:</td>\n",
       "<td>3.6.2 final</td></tr></table></div>"
      ],
      "text/plain": [
       "--------------------------  ----------------------------------------\n",
       "H2O cluster uptime:         4 mins 26 secs\n",
       "H2O cluster version:        3.14.0.7\n",
       "H2O cluster version age:    14 days, 18 hours and 43 minutes\n",
       "H2O cluster name:           H2O_from_python_zhaomengqi_6xausm\n",
       "H2O cluster total nodes:    1\n",
       "H2O cluster free memory:    1.637 Gb\n",
       "H2O cluster total cores:    4\n",
       "H2O cluster allowed cores:  4\n",
       "H2O cluster status:         locked, healthy\n",
       "H2O connection url:         http://localhost:54321\n",
       "H2O connection proxy:\n",
       "H2O internal security:      False\n",
       "H2O API Extensions:         XGBoost, Algos, AutoML, Core V3, Core V4\n",
       "Python version:             3.6.2 final\n",
       "--------------------------  ----------------------------------------"
      ]
     },
     "metadata": {},
     "output_type": "display_data"
    }
   ],
   "source": [
    "import h2o\n",
    "h2o.init()"
   ]
  },
  {
   "cell_type": "code",
   "execution_count": 22,
   "metadata": {},
   "outputs": [
    {
     "name": "stdout",
     "output_type": "stream",
     "text": [
      "Parse progress: |█████████████████████████████████████████████████████████| 100%\n"
     ]
    },
    {
     "data": {
      "text/html": [
       "<table>\n",
       "<thead>\n",
       "<tr><th style=\"text-align: right;\">   parcelid</th><th style=\"text-align: right;\">   logerror</th><th style=\"text-align: right;\">  airconditioningtypeid</th><th style=\"text-align: right;\">  bathroomcnt</th><th style=\"text-align: right;\">  bedroomcnt</th><th style=\"text-align: right;\">  buildingqualitytypeid</th><th style=\"text-align: right;\">  calculatedbathnbr</th><th style=\"text-align: right;\">  finishedfloor1squarefeet</th><th style=\"text-align: right;\">  calculatedfinishedsquarefeet</th><th style=\"text-align: right;\">  finishedsquarefeet12</th><th style=\"text-align: right;\">  finishedsquarefeet15</th><th style=\"text-align: right;\">  finishedsquarefeet50</th><th style=\"text-align: right;\">  fips</th><th style=\"text-align: right;\">  fireplacecnt</th><th style=\"text-align: right;\">  fullbathcnt</th><th style=\"text-align: right;\">  garagecarcnt</th><th style=\"text-align: right;\">  garagetotalsqft</th><th style=\"text-align: right;\">  heatingorsystemtypeid</th><th style=\"text-align: right;\">   latitude</th><th style=\"text-align: right;\">   longitude</th><th style=\"text-align: right;\">  lotsizesquarefeet</th><th style=\"text-align: right;\">  poolcnt</th><th style=\"text-align: right;\">  poolsizesum</th><th style=\"text-align: right;\">  pooltypeid2</th><th style=\"text-align: right;\">  pooltypeid7</th><th style=\"text-align: right;\">  propertylandusetypeid</th><th style=\"text-align: right;\">  rawcensustractandblock</th><th style=\"text-align: right;\">  regionidcity</th><th style=\"text-align: right;\">  regionidcounty</th><th style=\"text-align: right;\">  regionidneighborhood</th><th style=\"text-align: right;\">  regionidzip</th><th style=\"text-align: right;\">  roomcnt</th><th style=\"text-align: right;\">  threequarterbathnbr</th><th style=\"text-align: right;\">  unitcnt</th><th style=\"text-align: right;\">  yardbuildingsqft17</th><th style=\"text-align: right;\">  yearbuilt</th><th style=\"text-align: right;\">  numberofstories</th><th style=\"text-align: right;\">  structuretaxvaluedollarcnt</th><th style=\"text-align: right;\">  taxvaluedollarcnt</th><th style=\"text-align: right;\">  assessmentyear</th><th style=\"text-align: right;\">  landtaxvaluedollarcnt</th><th style=\"text-align: right;\">  taxamount</th><th style=\"text-align: right;\">  taxdelinquencyyear</th><th style=\"text-align: right;\">  censustractandblock</th></tr>\n",
       "</thead>\n",
       "<tbody>\n",
       "<tr><td style=\"text-align: right;\">1.42975e+07</td><td style=\"text-align: right;\"> 0.0255949 </td><td style=\"text-align: right;\">                1.81201</td><td style=\"text-align: right;\">          3.5</td><td style=\"text-align: right;\">           4</td><td style=\"text-align: right;\">                6.53378</td><td style=\"text-align: right;\">                3.5</td><td style=\"text-align: right;\">                   1366.17</td><td style=\"text-align: right;\">                          3100</td><td style=\"text-align: right;\">                  3100</td><td style=\"text-align: right;\">               2354.49</td><td style=\"text-align: right;\">               1381.39</td><td style=\"text-align: right;\">  6059</td><td style=\"text-align: right;\">       1.19122</td><td style=\"text-align: right;\">            3</td><td style=\"text-align: right;\">       2      </td><td style=\"text-align: right;\">          633    </td><td style=\"text-align: right;\">                3.92175</td><td style=\"text-align: right;\">3.36349e+07</td><td style=\"text-align: right;\">-1.17869e+08</td><td style=\"text-align: right;\">               4506</td><td style=\"text-align: right;\">        1</td><td style=\"text-align: right;\">      517.931</td><td style=\"text-align: right;\">            1</td><td style=\"text-align: right;\">            1</td><td style=\"text-align: right;\">                    261</td><td style=\"text-align: right;\">             6.05906e+07</td><td style=\"text-align: right;\">         53571</td><td style=\"text-align: right;\">            1286</td><td style=\"text-align: right;\">                187725</td><td style=\"text-align: right;\">        96978</td><td style=\"text-align: right;\">        0</td><td style=\"text-align: right;\">               1     </td><td style=\"text-align: right;\">  1.11031</td><td style=\"text-align: right;\">             305.461</td><td style=\"text-align: right;\">       1998</td><td style=\"text-align: right;\">          1.43429</td><td style=\"text-align: right;\">                      485713</td><td style=\"text-align: right;\">        1.02328e+06</td><td style=\"text-align: right;\">            2016</td><td style=\"text-align: right;\">                 537569</td><td style=\"text-align: right;\">   11013.7 </td><td style=\"text-align: right;\">             14.0883</td><td style=\"text-align: right;\">          6.05906e+13</td></tr>\n",
       "<tr><td style=\"text-align: right;\">1.70529e+07</td><td style=\"text-align: right;\"> 0.0556191 </td><td style=\"text-align: right;\">                1.81201</td><td style=\"text-align: right;\">          1  </td><td style=\"text-align: right;\">           2</td><td style=\"text-align: right;\">                6.53378</td><td style=\"text-align: right;\">                1  </td><td style=\"text-align: right;\">                   1465   </td><td style=\"text-align: right;\">                          1465</td><td style=\"text-align: right;\">                  1465</td><td style=\"text-align: right;\">               2354.49</td><td style=\"text-align: right;\">               1465   </td><td style=\"text-align: right;\">  6111</td><td style=\"text-align: right;\">       1      </td><td style=\"text-align: right;\">            1</td><td style=\"text-align: right;\">       1      </td><td style=\"text-align: right;\">            0    </td><td style=\"text-align: right;\">                3.92175</td><td style=\"text-align: right;\">3.44493e+07</td><td style=\"text-align: right;\">-1.19282e+08</td><td style=\"text-align: right;\">              12647</td><td style=\"text-align: right;\">        1</td><td style=\"text-align: right;\">      517.931</td><td style=\"text-align: right;\">            1</td><td style=\"text-align: right;\">            1</td><td style=\"text-align: right;\">                    261</td><td style=\"text-align: right;\">             6.111e+07  </td><td style=\"text-align: right;\">         13091</td><td style=\"text-align: right;\">            2061</td><td style=\"text-align: right;\">                187725</td><td style=\"text-align: right;\">        97099</td><td style=\"text-align: right;\">        5</td><td style=\"text-align: right;\">               1.0096</td><td style=\"text-align: right;\">  1.11031</td><td style=\"text-align: right;\">             305.461</td><td style=\"text-align: right;\">       1967</td><td style=\"text-align: right;\">          1      </td><td style=\"text-align: right;\">                       88000</td><td style=\"text-align: right;\">   464000          </td><td style=\"text-align: right;\">            2016</td><td style=\"text-align: right;\">                 376000</td><td style=\"text-align: right;\">    5672.48</td><td style=\"text-align: right;\">             14.0883</td><td style=\"text-align: right;\">          6.111e+13  </td></tr>\n",
       "<tr><td style=\"text-align: right;\">1.41862e+07</td><td style=\"text-align: right;\"> 0.00538285</td><td style=\"text-align: right;\">                1.81201</td><td style=\"text-align: right;\">          2  </td><td style=\"text-align: right;\">           3</td><td style=\"text-align: right;\">                6.53378</td><td style=\"text-align: right;\">                2  </td><td style=\"text-align: right;\">                   1366.17</td><td style=\"text-align: right;\">                          1243</td><td style=\"text-align: right;\">                  1243</td><td style=\"text-align: right;\">               2354.49</td><td style=\"text-align: right;\">               1381.39</td><td style=\"text-align: right;\">  6059</td><td style=\"text-align: right;\">       1.19122</td><td style=\"text-align: right;\">            2</td><td style=\"text-align: right;\">       2      </td><td style=\"text-align: right;\">          440    </td><td style=\"text-align: right;\">                3.92175</td><td style=\"text-align: right;\">3.38862e+07</td><td style=\"text-align: right;\">-1.17823e+08</td><td style=\"text-align: right;\">               8432</td><td style=\"text-align: right;\">        1</td><td style=\"text-align: right;\">      517.931</td><td style=\"text-align: right;\">            1</td><td style=\"text-align: right;\">            1</td><td style=\"text-align: right;\">                    261</td><td style=\"text-align: right;\">             6.05902e+07</td><td style=\"text-align: right;\">         21412</td><td style=\"text-align: right;\">            1286</td><td style=\"text-align: right;\">                187725</td><td style=\"text-align: right;\">        97078</td><td style=\"text-align: right;\">        6</td><td style=\"text-align: right;\">               1.0096</td><td style=\"text-align: right;\">  1.11031</td><td style=\"text-align: right;\">             305.461</td><td style=\"text-align: right;\">       1962</td><td style=\"text-align: right;\">          1      </td><td style=\"text-align: right;\">                       85289</td><td style=\"text-align: right;\">   564778          </td><td style=\"text-align: right;\">            2016</td><td style=\"text-align: right;\">                 479489</td><td style=\"text-align: right;\">    6488.3 </td><td style=\"text-align: right;\">             14.0883</td><td style=\"text-align: right;\">          6.05902e+13</td></tr>\n",
       "<tr><td style=\"text-align: right;\">1.21779e+07</td><td style=\"text-align: right;\">-0.10341   </td><td style=\"text-align: right;\">                1.81201</td><td style=\"text-align: right;\">          3  </td><td style=\"text-align: right;\">           4</td><td style=\"text-align: right;\">                8      </td><td style=\"text-align: right;\">                3  </td><td style=\"text-align: right;\">                   1366.17</td><td style=\"text-align: right;\">                          2376</td><td style=\"text-align: right;\">                  2376</td><td style=\"text-align: right;\">               2354.49</td><td style=\"text-align: right;\">               1381.39</td><td style=\"text-align: right;\">  6037</td><td style=\"text-align: right;\">       1.19122</td><td style=\"text-align: right;\">            3</td><td style=\"text-align: right;\">       1.81528</td><td style=\"text-align: right;\">          350.047</td><td style=\"text-align: right;\">                2      </td><td style=\"text-align: right;\">3.42452e+07</td><td style=\"text-align: right;\">-1.18241e+08</td><td style=\"text-align: right;\">              13038</td><td style=\"text-align: right;\">        1</td><td style=\"text-align: right;\">      517.931</td><td style=\"text-align: right;\">            1</td><td style=\"text-align: right;\">            1</td><td style=\"text-align: right;\">                    261</td><td style=\"text-align: right;\">             6.0373e+07 </td><td style=\"text-align: right;\">        396551</td><td style=\"text-align: right;\">            3101</td><td style=\"text-align: right;\">                187725</td><td style=\"text-align: right;\">        96330</td><td style=\"text-align: right;\">        0</td><td style=\"text-align: right;\">               1.0096</td><td style=\"text-align: right;\">  1      </td><td style=\"text-align: right;\">             305.461</td><td style=\"text-align: right;\">       1970</td><td style=\"text-align: right;\">          1.43429</td><td style=\"text-align: right;\">                      108918</td><td style=\"text-align: right;\">   145143          </td><td style=\"text-align: right;\">            2016</td><td style=\"text-align: right;\">                  36225</td><td style=\"text-align: right;\">    1777.51</td><td style=\"text-align: right;\">             14.0883</td><td style=\"text-align: right;\">          6.0373e+13 </td></tr>\n",
       "<tr><td style=\"text-align: right;\">1.08872e+07</td><td style=\"text-align: right;\"> 0.00694036</td><td style=\"text-align: right;\">                1      </td><td style=\"text-align: right;\">          3  </td><td style=\"text-align: right;\">           3</td><td style=\"text-align: right;\">                8      </td><td style=\"text-align: right;\">                3  </td><td style=\"text-align: right;\">                   1366.17</td><td style=\"text-align: right;\">                          1312</td><td style=\"text-align: right;\">                  1312</td><td style=\"text-align: right;\">               2354.49</td><td style=\"text-align: right;\">               1381.39</td><td style=\"text-align: right;\">  6037</td><td style=\"text-align: right;\">       1.19122</td><td style=\"text-align: right;\">            3</td><td style=\"text-align: right;\">       1.81528</td><td style=\"text-align: right;\">          350.047</td><td style=\"text-align: right;\">                2      </td><td style=\"text-align: right;\">3.41851e+07</td><td style=\"text-align: right;\">-1.18415e+08</td><td style=\"text-align: right;\">             278581</td><td style=\"text-align: right;\">        1</td><td style=\"text-align: right;\">      517.931</td><td style=\"text-align: right;\">            1</td><td style=\"text-align: right;\">            1</td><td style=\"text-align: right;\">                    266</td><td style=\"text-align: right;\">             6.03712e+07</td><td style=\"text-align: right;\">         12447</td><td style=\"text-align: right;\">            3101</td><td style=\"text-align: right;\">                268548</td><td style=\"text-align: right;\">        96451</td><td style=\"text-align: right;\">        0</td><td style=\"text-align: right;\">               1.0096</td><td style=\"text-align: right;\">  1      </td><td style=\"text-align: right;\">             305.461</td><td style=\"text-align: right;\">       1964</td><td style=\"text-align: right;\">          1.43429</td><td style=\"text-align: right;\">                       73681</td><td style=\"text-align: right;\">   119407          </td><td style=\"text-align: right;\">            2016</td><td style=\"text-align: right;\">                  45726</td><td style=\"text-align: right;\">    1533.89</td><td style=\"text-align: right;\">             14.0883</td><td style=\"text-align: right;\">          6.03712e+13</td></tr>\n",
       "</tbody>\n",
       "</table>"
      ]
     },
     "metadata": {},
     "output_type": "display_data"
    },
    {
     "data": {
      "text/plain": []
     },
     "execution_count": 22,
     "metadata": {},
     "output_type": "execute_result"
    }
   ],
   "source": [
    "import pandas as pd\n",
    "\n",
    "df = pd.read_csv('midterm_2017.csv')\n",
    "\n",
    "#df.drop(['parcelid'],axis=1,inplace=True)\n",
    "#df.drop(['taxdelinquencyflag','propertyzoningdesc','propertycountylandusecode','hashottuborspa','transactiondate','transaction_month','fireplaceflag','basementsqft','buildingclasstypeid','decktypeid','finishedsquarefeet13','yardbuildingsqft26','typeconstructiontypeid','storytypeid','finishedsquarefeet6'],axis=1,inplace=True)\n",
    "\n",
    "wine=h2o.H2OFrame(df)\n",
    "\n",
    "wine.head(5)\n"
   ]
  },
  {
   "cell_type": "code",
   "execution_count": null,
   "metadata": {},
   "outputs": [],
   "source": []
  }
 ],
 "metadata": {
  "kernelspec": {
   "display_name": "Python 3",
   "language": "python",
   "name": "python3"
  },
  "language_info": {
   "codemirror_mode": {
    "name": "ipython",
    "version": 3
   },
   "file_extension": ".py",
   "mimetype": "text/x-python",
   "name": "python",
   "nbconvert_exporter": "python",
   "pygments_lexer": "ipython3",
   "version": "3.6.2"
  }
 },
 "nbformat": 4,
 "nbformat_minor": 2
}
